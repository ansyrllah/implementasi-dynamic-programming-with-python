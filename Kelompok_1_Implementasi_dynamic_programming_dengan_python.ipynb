{
  "cells": [
    {
      "cell_type": "markdown",
      "metadata": {
        "id": "view-in-github",
        "colab_type": "text"
      },
      "source": [
        "<a href=\"https://colab.research.google.com/github/ansyrllah/implementasi-dynamic-programming-with-python/blob/main/Kelompok_1_Implementasi_dynamic_programming_dengan_python.ipynb\" target=\"_parent\"><img src=\"https://colab.research.google.com/assets/colab-badge.svg\" alt=\"Open In Colab\"/></a>"
      ]
    },
    {
      "cell_type": "markdown",
      "metadata": {
        "id": "Nma_JWh-W-IF"
      },
      "source": [
        "<div class=\"markdown-google-sans\">\n",
        "  <h1>Kelompok 1 </h1>\n",
        "  <h2>Oleh </h2>\n",
        "  <h3>Abdullah Amali</h3>\n",
        "  <h3>Ansyarullah</h3>\n",
        "  <h3>Diaz Azqia</h3>\n",
        "</div>"
      ]
    },
    {
      "cell_type": "markdown",
      "source": [
        "Implementasi dynamic programming dengan menggunakan bahasa pemrograman Python di GoogleLAB script dan paragraf penjelasannya"
      ],
      "metadata": {
        "id": "K0tv0F3Tsv-N"
      }
    },
    {
      "cell_type": "code",
      "source": [
        "# Program Python untuk single Dijkstra\n",
        "# sumber algoritma jalur terpendek. Programnya adalah\n",
        "# untuk representasi matriks adjacency dari grafik\n",
        "\n",
        "\n",
        "class Graph():\n",
        "\n",
        "\tdef __init__(self, vertices):\n",
        "\t\tself.V = vertices\n",
        "\t\tself.graph = [[0 for column in range(vertices)]\n",
        "\t\t\t\t\tfor row in range(vertices)]\n",
        "\n",
        "\tdef printSolution(self, dist):\n",
        "\t\t# Metode untuk mencetak solusi\n",
        "\t\tprint(\"Vertex \\t Distance from Source\")\n",
        "\t\tfor node in range(self.V):\n",
        "\t\t\tprint(node, \"\\t\\t\", dist[node])\n",
        "\n",
        "\t# Fungsi utilitas untuk mencari simpul dengan\n",
        "\t# jarak terpendek, dari himpunan simpul-simpul\n",
        "\t# yang belum termasuk dalam pohon jalur terpendek\n",
        "\tdef minDistance(self, dist, sptSet):\n",
        "\t\t# Inisialisasi jarak minimum untuk simpul selanjutnya\n",
        "\t\tmin = 1e7\n",
        "\n",
        "\t\t# Mencari simpul terdekat yang belum ada dalam\n",
        "\t\t# pohon jalur terpendek\n",
        "\t\tfor v in range(self.V):\n",
        "\t\t\tif dist[v] < min and sptSet[v] == False:\n",
        "\t\t\t\tmin = dist[v]\n",
        "\t\t\t\tmin_index = v\n",
        "\n",
        "\t\treturn min_index\n",
        "\n",
        "\t# Fungsi yang mengimplementasikan algoritma Dijkstra\n",
        "\t# untuk mencari rute terpendek dari simpul awal\n",
        "\t# menggunakan representasi matriks keberlanjutan graf\n",
        "\tdef dijkstra(self, src):\n",
        "\t\tdist = [1e7] * self.V\n",
        "\t\tdist[src] = 0\n",
        "\t\tsptSet = [False] * self.V\n",
        "\n",
        "\t\tfor cout in range(self.V):\n",
        "\t\t\t# Memilih simpul dengan jarak terpendek\n",
        "\t\t\t# dari himpunan simpul yang belum diproses.\n",
        "\t\t\t# Pada iterasi pertama, u selalu sama dengan src\n",
        "\t\t\tu = self.minDistance(dist, sptSet)\n",
        "\n",
        "\t\t\t# Menyertakan simpul dengan jarak terpendek\n",
        "\t\t\t# dalam pohon jalur terpendek\n",
        "\t\t\tsptSet[u] = True\n",
        "\n",
        "\t\t\t# Memperbarui nilai jarak simpul-simpul yang\n",
        "\t\t\t# berdekatan dengan simpul yang sedang diproses,\n",
        "\t\t\t# jika jarak saat ini lebih besar dari jarak baru\n",
        "\t\t\t# melalui simpul yang sedang diproses dan\n",
        "\t\t\t# simpul tersebut belum termasuk dalam pohon jalur terpendek\n",
        "\t\t\tfor v in range(self.V):\n",
        "\t\t\t\tif (self.graph[u][v] > 0 and\n",
        "\t\t\t\tsptSet[v] == False and\n",
        "\t\t\t\tdist[v] > dist[u] + self.graph[u][v]):\n",
        "\t\t\t\t\tdist[v] = dist[u] + self.graph[u][v]\n",
        "\n",
        "\t\tself.printSolution(dist)\n",
        "\n",
        "# Driver program\n",
        "g = Graph(9)\n",
        "g.graph = [[0, 4, 0, 0, 0, 0, 0, 8, 0],\n",
        "\t\t[4, 0, 8, 0, 0, 0, 0, 11, 0],\n",
        "\t\t[0, 8, 0, 7, 0, 4, 0, 0, 2],\n",
        "\t\t[0, 0, 7, 0, 9, 14, 0, 0, 0],\n",
        "\t\t[0, 0, 0, 9, 0, 10, 0, 0, 0],\n",
        "\t\t[0, 0, 4, 14, 10, 0, 2, 0, 0],\n",
        "\t\t[0, 0, 0, 0, 0, 2, 0, 1, 6],\n",
        "\t\t[8, 11, 0, 0, 0, 0, 1, 0, 7],\n",
        "\t\t[0, 0, 2, 0, 0, 0, 6, 7, 0]\n",
        "\t\t]\n",
        "\n",
        "g.dijkstra(0)\n",
        "\n",
        "# Kode ini disumbangkan oleh Divyanshu Mehta\n"
      ],
      "metadata": {
        "id": "oRolrgEFTeLr",
        "outputId": "0e424c59-bbdc-45e8-e7cc-3c3eda8bab39",
        "colab": {
          "base_uri": "https://localhost:8080/"
        }
      },
      "execution_count": null,
      "outputs": [
        {
          "output_type": "stream",
          "name": "stdout",
          "text": [
            "Vertex \t Distance from Source\n",
            "0 \t\t 0\n",
            "1 \t\t 4\n",
            "2 \t\t 12\n",
            "3 \t\t 19\n",
            "4 \t\t 21\n",
            "5 \t\t 11\n",
            "6 \t\t 9\n",
            "7 \t\t 8\n",
            "8 \t\t 14\n"
          ]
        }
      ]
    },
    {
      "cell_type": "markdown",
      "source": [
        "Kode di atas adalah implementasi algoritma Dijkstra untuk mencari rute terpendek dalam sebuah graf dengan representasi matriks keberlanjutan. Berikut adalah penjelasan sederhana dari kode tersebut:\n",
        "\n",
        "1. Mendefinisikan kelas Graph:\n",
        "   - `__init__(self, vertices)`: Konstruktor kelas yang menginisialisasi jumlah simpul (vertices) dan matriks keberlanjutan (graph) dengan ukuran vertices x vertices, semua elemennya diinisialisasi dengan 0.\n",
        "   - `printSolution(self, dist)`: Metode untuk mencetak solusi, yaitu jarak terpendek dari simpul awal (source) ke setiap simpul lainnya.\n",
        "   - `minDistance(self, dist, sptSet)`: Metode utilitas untuk mencari simpul dengan jarak terpendek yang belum termasuk dalam pohon jalur terpendek.\n",
        "   - `dijkstra(self, src)`: Metode yang mengimplementasikan algoritma Dijkstra untuk mencari rute terpendek dari simpul awal (src) ke semua simpul lainnya.\n",
        "\n",
        "2. Mendefinisikan variabel dan inisialisasi graf:\n",
        "   - Membuat objek graf dengan 9 simpul (vertices) menggunakan konstruktor `Graph(9)`.\n",
        "   - Menginisialisasi matriks keberlanjutan (graph) dengan bobot/biaya antara simpul-simpul. Angka 0 menandakan tidak ada jalur langsung antara simpul-simpul tersebut.\n",
        "\n",
        "3. Memanggil metode `dijkstra(src)` pada objek graf (g):\n",
        "   - src adalah simpul awal dari mana kita ingin mencari rute terpendek.\n",
        "   - Metode ini akan mencetak jarak terpendek dari simpul awal (src) ke setiap simpul lainnya menggunakan metode `printSolution(dist)`.\n",
        "\n",
        "4. Algoritma Dijkstra:\n",
        "   - Menggunakan array `dist` untuk menyimpan jarak terpendek saat ini dari simpul awal ke semua simpul.\n",
        "   - Menggunakan array `sptSet` untuk melacak simpul-simpul yang telah diproses dalam pohon jalur terpendek.\n",
        "   - Di dalam loop utama, simpul dengan jarak terpendek yang belum diproses dipilih menggunakan metode `minDistance(dist, sptSet)`.\n",
        "   - Kemudian simpul tersebut ditandai sebagai sudah diproses dengan mengatur nilai `sptSet[u]` menjadi True.\n",
        "   - Dalam loop nested, jarak terpendek ke semua simpul yang belum diproses tetap diperbarui jika ditemukan jarak yang lebih pendek melalui simpul yang sedang diproses.\n",
        "\n",
        "Semoga penjelasan ini membantu memahami kode dan konsep dasar di balik algoritma Dijkstra."
      ],
      "metadata": {
        "id": "soUOJVD9tTCK"
      }
    }
  ],
  "metadata": {
    "colab": {
      "provenance": [],
      "include_colab_link": true
    },
    "kernelspec": {
      "display_name": "Python 3",
      "name": "python3"
    }
  },
  "nbformat": 4,
  "nbformat_minor": 0
}